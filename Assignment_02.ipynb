{
  "cells": [
    {
      "cell_type": "markdown",
      "metadata": {
        "id": "bb0O0xtk1v9t"
      },
      "source": [
        "## Task 01:\n",
        "\n",
        "Print Your Name with your Father name and Date of birth using suitable escape sequence charactor\n",
        "\n"
      ]
    },
    {
      "cell_type": "code",
      "execution_count": null,
      "metadata": {
        "id": "U7LLGIkO2Ixa"
      },
      "outputs": [
        {
          "name": "stdout",
          "output_type": "stream",
          "text": [
            "Name: Abdul Moid Siddique Father Name: Muhammad Mustafa Khurshid DOB: 07-Aug-2005\n"
          ]
        }
      ],
      "source": [
        "print(\"Name: Abdul Moid Siddique Father Name: Muhammad Mustafa Khurshid DOB: 07-Aug-2005\")"
      ]
    },
    {
      "cell_type": "markdown",
      "metadata": {
        "id": "TU-xwiLV2NgB"
      },
      "source": [
        "# Task 02:\n",
        "\n",
        "Write your small bio using variables and print it using print function"
      ]
    },
    {
      "cell_type": "code",
      "execution_count": null,
      "metadata": {
        "id": "Dw8w3rwl2wDB"
      },
      "outputs": [
        {
          "name": "stdout",
          "output_type": "stream",
          "text": [
            "Name: Abdul Moid Siddique\n",
            "FatherName: Muhammad Mustafa Khurshid\n",
            "age: 18\n",
            "nationality: Pakistani\n",
            "religion: Islam\n",
            "degree: B.E in Industrial and Manufacturing Engineering\n",
            "university: NED University of Engineering & Technology\n",
            "hobbies: playing cricket, gym, online researching, programming\n"
          ]
        }
      ],
      "source": [
        "name = \"Abdul Moid Siddique\"\n",
        "father_name = \"Muhammad Mustafa Khurshid\"\n",
        "age = 18\n",
        "nationality = \"Pakistani\"\n",
        "religion= \"Islam\"\n",
        "degree = \"B.E in Industrial and Manufacturing Engineering\" \n",
        "university = \"NED University of Engineering & Technology\"\n",
        "hobbies = \"playing cricket, gym, online researching, programming\"\n",
        "\n",
        "print(\"Name:\", name)\n",
        "print(\"FatherName:\", father_name)\n",
        "print(\"age:\", age)\n",
        "print(\"nationality:\", nationality)\n",
        "print(\"religion:\", religion)\n",
        "print(\"degree:\", degree)\n",
        "print(\"university:\", university)\n",
        "print(\"hobbies:\", hobbies)\n",
        "\n",
        "\n",
        "\n",
        "\n"
      ]
    },
    {
      "cell_type": "markdown",
      "metadata": {
        "id": "F2lcZuDe2ztv"
      },
      "source": [
        "# Task 03:\n",
        "\n",
        "Write a program in which use all the operators we can use in Python"
      ]
    },
    {
      "cell_type": "code",
      "execution_count": 13,
      "metadata": {
        "id": "lEJhzsXh3e7K"
      },
      "outputs": [
        {
          "name": "stdout",
          "output_type": "stream",
          "text": [
            "Addition: 12\n",
            "subtraction: -6\n",
            "division: 0.3333333333333333\n",
            "multiplication: 27\n",
            "square: 9\n",
            "AND: False\n",
            "OR: True\n",
            "NOT: False\n"
          ]
        }
      ],
      "source": [
        "a = 3\n",
        "b = 9\n",
        "\n",
        "print(\"Addition:\", a + b)\n",
        "print(\"subtraction:\", a - b)\n",
        "print(\"division:\", a / b)\n",
        "print(\"multiplication:\", a * b)\n",
        "print(\"square:\", a*a)\n",
        "print(\"AND:\", (a > 5) and (b < 10))\n",
        "print(\"OR:\", (a < 5) and (b < 10))\n",
        "print(\"NOT:\", a==b)\n"
      ]
    },
    {
      "cell_type": "markdown",
      "metadata": {
        "id": "i4N14TJU3l7n"
      },
      "source": [
        "# Task 04:\n",
        "\n",
        "\n",
        "1. Mention Marks of English , Islamiat and Maths out of 100 in 3 different variables\n",
        "\n",
        "2. Mention Variable of Total Marks and assign 300 to it\n",
        "\n",
        "3. Calculate Percentage"
      ]
    },
    {
      "cell_type": "code",
      "execution_count": 21,
      "metadata": {
        "id": "nxojzvRg5PP4"
      },
      "outputs": [
        {
          "name": "stdout",
          "output_type": "stream",
          "text": [
            "Percentage:  83.33333333333334\n"
          ]
        }
      ],
      "source": [
        "English = 90\n",
        "Islamiat = 80\n",
        "Maths = 85\n",
        "\n",
        "Total_Scored_Marks = 250\n",
        "Total_Marks = 300\n",
        "\n",
        "percentage = (Total_Scored_Marks / Total_Marks) * 100\n",
        "print(\"Percentage: \", percentage) \n",
        "\n",
        "\n",
        "\n"
      ]
    }
  ],
  "metadata": {
    "colab": {
      "provenance": []
    },
    "kernelspec": {
      "display_name": "Python 3",
      "name": "python3"
    },
    "language_info": {
      "codemirror_mode": {
        "name": "ipython",
        "version": 3
      },
      "file_extension": ".py",
      "mimetype": "text/x-python",
      "name": "python",
      "nbconvert_exporter": "python",
      "pygments_lexer": "ipython3",
      "version": "3.12.2"
    }
  },
  "nbformat": 4,
  "nbformat_minor": 0
}
